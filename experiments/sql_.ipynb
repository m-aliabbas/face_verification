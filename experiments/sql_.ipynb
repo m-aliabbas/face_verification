{
 "cells": [
  {
   "cell_type": "code",
   "execution_count": 1,
   "metadata": {},
   "outputs": [],
   "source": [
    "from sql_db_interface import SQLDBInterface"
   ]
  },
  {
   "cell_type": "code",
   "execution_count": 2,
   "metadata": {},
   "outputs": [],
   "source": [
    "sql = SQLDBInterface(db_name='test1')"
   ]
  },
  {
   "cell_type": "code",
   "execution_count": 4,
   "metadata": {},
   "outputs": [
    {
     "name": "stdout",
     "output_type": "stream",
     "text": [
      " \n"
     ]
    },
    {
     "data": {
      "text/plain": [
       "('0', 'Ali Abbas', 'Talagang', 'Talagang', 'Punjab', '48100', 'faces/ali.jpg')"
      ]
     },
     "execution_count": 4,
     "metadata": {},
     "output_type": "execute_result"
    }
   ],
   "source": [
    "sql.get_data(id=0)"
   ]
  },
  {
   "cell_type": "code",
   "execution_count": 5,
   "metadata": {},
   "outputs": [],
   "source": [
    "import sqlite3"
   ]
  },
  {
   "cell_type": "code",
   "execution_count": 7,
   "metadata": {},
   "outputs": [],
   "source": [
    "conn = sqlite3.connect('test2.db')"
   ]
  },
  {
   "cell_type": "code",
   "execution_count": 8,
   "metadata": {},
   "outputs": [],
   "source": [
    "id=1"
   ]
  },
  {
   "cell_type": "code",
   "execution_count": 12,
   "metadata": {},
   "outputs": [],
   "source": [
    "cur=conn.execute(f\"SELECT * FROM COMPANY\")"
   ]
  },
  {
   "cell_type": "code",
   "execution_count": 13,
   "metadata": {},
   "outputs": [
    {
     "name": "stdout",
     "output_type": "stream",
     "text": [
      "(b'\\x00\\x00\\x00\\x00\\x00\\x00\\x00\\x00', 'Ali Abbas', 'Talagang', 'Talagang', 'Punjab', '48100', 'faces/ali.jpg')\n",
      "(b'\\x01\\x00\\x00\\x00\\x00\\x00\\x00\\x00', 'Saad', 'Mianwali', 'Mianwali', 'Punjab', '48100', 'faces/saad.jpg')\n",
      "(b'\\x02\\x00\\x00\\x00\\x00\\x00\\x00\\x00', 'anwaar', 'TG', 'TG', 'Punjab', '48100', 'faces/anwaa.jpg')\n",
      "(b'\\x03\\x00\\x00\\x00\\x00\\x00\\x00\\x00', 'kumail', 'TG', 'TG', 'Punjab', '48100', 'faces/kumail.jpg')\n",
      "(b'\\x04\\x00\\x00\\x00\\x00\\x00\\x00\\x00', 'farooq', 'TG', 'TG', 'Punjab', '48100', 'faces/farooq.jpg')\n",
      "(b'\\x05\\x00\\x00\\x00\\x00\\x00\\x00\\x00', 'nazar', 'TG', 'TG', 'Punjab', '48100', 'faces/nazar.jpg')\n"
     ]
    }
   ],
   "source": [
    "for c in cur:\n",
    "    print(c)"
   ]
  },
  {
   "cell_type": "code",
   "execution_count": null,
   "metadata": {},
   "outputs": [],
   "source": []
  }
 ],
 "metadata": {
  "kernelspec": {
   "display_name": "tensorflow",
   "language": "python",
   "name": "python3"
  },
  "language_info": {
   "codemirror_mode": {
    "name": "ipython",
    "version": 3
   },
   "file_extension": ".py",
   "mimetype": "text/x-python",
   "name": "python",
   "nbconvert_exporter": "python",
   "pygments_lexer": "ipython3",
   "version": "3.10.8 (main, Nov  4 2022, 09:21:25) [GCC 12.2.0]"
  },
  "orig_nbformat": 4,
  "vscode": {
   "interpreter": {
    "hash": "8aeff77c140e19957c962e2312d620fe43811b6a9f1755dd59e0bd3bfc542cf0"
   }
  }
 },
 "nbformat": 4,
 "nbformat_minor": 2
}
