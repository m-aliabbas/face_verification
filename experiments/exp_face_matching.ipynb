{
 "cells": [
  {
   "cell_type": "code",
   "execution_count": 1,
   "metadata": {},
   "outputs": [
    {
     "name": "stderr",
     "output_type": "stream",
     "text": [
      "2023-04-12 11:06:51.295415: I tensorflow/core/platform/cpu_feature_guard.cc:182] This TensorFlow binary is optimized to use available CPU instructions in performance-critical operations.\n",
      "To enable the following instructions: AVX2 FMA, in other operations, rebuild TensorFlow with the appropriate compiler flags.\n",
      "2023-04-12 11:06:52.225090: W tensorflow/compiler/tf2tensorrt/utils/py_utils.cc:38] TF-TRT Warning: Could not find TensorRT\n"
     ]
    }
   ],
   "source": [
    "from deepface import DeepFace"
   ]
  },
  {
   "cell_type": "code",
   "execution_count": 25,
   "metadata": {},
   "outputs": [],
   "source": [
    "import numpy as np"
   ]
  },
  {
   "cell_type": "code",
   "execution_count": 5,
   "metadata": {},
   "outputs": [],
   "source": [
    "import os,glob"
   ]
  },
  {
   "cell_type": "code",
   "execution_count": 17,
   "metadata": {},
   "outputs": [],
   "source": [
    "files = glob.glob('face/*.jpg')"
   ]
  },
  {
   "cell_type": "code",
   "execution_count": 18,
   "metadata": {},
   "outputs": [
    {
     "data": {
      "text/plain": [
       "['face/mohsin.jpg',\n",
       " 'face/nazar.jpg',\n",
       " 'face/anwaa.jpg',\n",
       " 'face/kumail.jpg',\n",
       " 'face/ali.jpg',\n",
       " 'face/farooq.jpg',\n",
       " 'face/raaziq.jpg']"
      ]
     },
     "execution_count": 18,
     "metadata": {},
     "output_type": "execute_result"
    }
   ],
   "source": [
    "files"
   ]
  },
  {
   "cell_type": "code",
   "execution_count": 21,
   "metadata": {},
   "outputs": [],
   "source": [
    "representations = []\n",
    "for img_path in files:     \n",
    "    embedding = DeepFace.represent(img_path = img_path, model_name = \"Facenet\")[0][\"embedding\"]\n",
    "    representation = []\n",
    "    representation.append(img_path)\n",
    "    representation.append(embedding)\n",
    "    representations.append(representation)"
   ]
  },
  {
   "cell_type": "code",
   "execution_count": 26,
   "metadata": {},
   "outputs": [],
   "source": [
    "embeddings = []\n",
    "for i in range(0, len(representations)):\n",
    "    embedding = representations[i][1]\n",
    "    embeddings.append(embedding)\n",
    " \n",
    "embeddings = np.array(embeddings, dtype='f')"
   ]
  },
  {
   "cell_type": "code",
   "execution_count": 29,
   "metadata": {},
   "outputs": [],
   "source": [
    "\t\n",
    "target_representation = DeepFace.represent(img_path = \"ali_.jpg\", model_name = \"Facenet\")[0][\"embedding\"]"
   ]
  },
  {
   "cell_type": "code",
   "execution_count": 31,
   "metadata": {},
   "outputs": [],
   "source": [
    "target_representation = np.array(target_representation, dtype='f')\n",
    "target_representation = np.expand_dims(target_representation, axis=0)"
   ]
  },
  {
   "cell_type": "code",
   "execution_count": 32,
   "metadata": {},
   "outputs": [],
   "source": [
    "import faiss"
   ]
  },
  {
   "cell_type": "code",
   "execution_count": 33,
   "metadata": {},
   "outputs": [],
   "source": [
    "dimensions = 128 #FaceNet output is 128 dimensional vector\n",
    " \n",
    "metric = 'euclidean' #euclidean, cosine\n",
    " \n",
    "if metric == 'euclidean':\n",
    "    index = faiss.IndexFlatL2(dimensions)\n",
    "elif metric == 'cosine':\n",
    "    index = faiss.IndexFlatIP(dimensions)\n",
    "    faiss.normalize_L2(embeddings)"
   ]
  },
  {
   "cell_type": "code",
   "execution_count": 34,
   "metadata": {},
   "outputs": [],
   "source": [
    "\t\n",
    "index.add(embeddings)"
   ]
  },
  {
   "cell_type": "code",
   "execution_count": 35,
   "metadata": {},
   "outputs": [],
   "source": [
    "#save\n",
    "faiss.write_index(index,\"vector.index\")\n",
    " \n",
    "#restore\n",
    "index = faiss.read_index(\"vector.index\")"
   ]
  },
  {
   "cell_type": "code",
   "execution_count": 36,
   "metadata": {},
   "outputs": [],
   "source": [
    "k = 3\n",
    "distances, neighbors = index.search(target_representation, k)"
   ]
  },
  {
   "cell_type": "code",
   "execution_count": 38,
   "metadata": {},
   "outputs": [
    {
     "data": {
      "text/plain": [
       "(array([[ 55.309193, 235.87521 , 238.27356 ]], dtype=float32),\n",
       " array([[4, 1, 6]]))"
      ]
     },
     "execution_count": 38,
     "metadata": {},
     "output_type": "execute_result"
    }
   ],
   "source": [
    "distances,neighbors"
   ]
  },
  {
   "cell_type": "code",
   "execution_count": 43,
   "metadata": {},
   "outputs": [],
   "source": [
    "\t\n",
    "target_representation = DeepFace.represent(img_path = \"face/saad.jpg\", model_name = \"Facenet\")[0][\"embedding\"]\n",
    "target_representation = np.array(target_representation, dtype='f')\n",
    "target_representation = np.expand_dims(target_representation, axis=0)\n"
   ]
  },
  {
   "cell_type": "code",
   "execution_count": 44,
   "metadata": {},
   "outputs": [],
   "source": [
    "index.add(target_representation)"
   ]
  },
  {
   "cell_type": "code",
   "execution_count": 45,
   "metadata": {},
   "outputs": [],
   "source": [
    "k = 3\n",
    "target_representation = DeepFace.represent(img_path = \"saad_.jpg\", model_name = \"Facenet\")[0][\"embedding\"]\n",
    "target_representation = np.array(target_representation, dtype='f')\n",
    "target_representation = np.expand_dims(target_representation, axis=0) \n",
    "distances, neighbors = index.search(target_representation, k)"
   ]
  },
  {
   "cell_type": "code",
   "execution_count": 46,
   "metadata": {},
   "outputs": [
    {
     "data": {
      "text/plain": [
       "(array([[ 43.374462, 193.63547 , 198.33301 ]], dtype=float32),\n",
       " array([[7, 6, 2]]))"
      ]
     },
     "execution_count": 46,
     "metadata": {},
     "output_type": "execute_result"
    }
   ],
   "source": [
    "distances,neighbors"
   ]
  },
  {
   "cell_type": "code",
   "execution_count": null,
   "metadata": {},
   "outputs": [],
   "source": []
  },
  {
   "cell_type": "code",
   "execution_count": 50,
   "metadata": {},
   "outputs": [],
   "source": [
    "total_distances = (1/distances).sum()"
   ]
  },
  {
   "cell_type": "code",
   "execution_count": 59,
   "metadata": {},
   "outputs": [],
   "source": [
    "distance_metrics = [(1/d)/total_distances for d in distances]"
   ]
  },
  {
   "cell_type": "code",
   "execution_count": 60,
   "metadata": {},
   "outputs": [
    {
     "data": {
      "text/plain": [
       "[array([0.6931469 , 0.15526532, 0.15158784], dtype=float32)]"
      ]
     },
     "execution_count": 60,
     "metadata": {},
     "output_type": "execute_result"
    }
   ],
   "source": [
    "distance_metrics"
   ]
  },
  {
   "cell_type": "code",
   "execution_count": null,
   "metadata": {},
   "outputs": [],
   "source": []
  }
 ],
 "metadata": {
  "kernelspec": {
   "display_name": "tensorflow",
   "language": "python",
   "name": "python3"
  },
  "language_info": {
   "codemirror_mode": {
    "name": "ipython",
    "version": 3
   },
   "file_extension": ".py",
   "mimetype": "text/x-python",
   "name": "python",
   "nbconvert_exporter": "python",
   "pygments_lexer": "ipython3",
   "version": "3.10.8 (main, Nov  4 2022, 09:21:25) [GCC 12.2.0]"
  },
  "orig_nbformat": 4,
  "vscode": {
   "interpreter": {
    "hash": "8aeff77c140e19957c962e2312d620fe43811b6a9f1755dd59e0bd3bfc542cf0"
   }
  }
 },
 "nbformat": 4,
 "nbformat_minor": 2
}
