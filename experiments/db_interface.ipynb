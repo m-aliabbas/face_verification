{
 "cells": [
  {
   "cell_type": "code",
   "execution_count": 1,
   "metadata": {},
   "outputs": [
    {
     "name": "stderr",
     "output_type": "stream",
     "text": [
      "2023-04-16 04:51:42.209916: I tensorflow/core/platform/cpu_feature_guard.cc:182] This TensorFlow binary is optimized to use available CPU instructions in performance-critical operations.\n",
      "To enable the following instructions: AVX2 FMA, in other operations, rebuild TensorFlow with the appropriate compiler flags.\n",
      "2023-04-16 04:51:45.336625: W tensorflow/compiler/tf2tensorrt/utils/py_utils.cc:38] TF-TRT Warning: Could not find TensorRT\n"
     ]
    }
   ],
   "source": [
    "from face_db_interface import FaceDBInterface\n",
    "from sql_db_interface import SQLDBInterface"
   ]
  },
  {
   "cell_type": "code",
   "execution_count": 2,
   "metadata": {},
   "outputs": [],
   "source": [
    "class DBInterace(object):\n",
    "\n",
    "    def __init__(self,db_name='',k=5) -> None:\n",
    "        self.k = k\n",
    "        self.face_db = FaceDBInterface(face_directory='face',db_name=db_name,k=self.k)\n",
    "        self.sql_db = SQLDBInterface(db_name=db_name)\n",
    "        print('[+] Everything loaded')\n",
    "    \n",
    "    def enroll(self,name,address,city,state,zip,filename):\n",
    "        \n",
    "        id = self.face_db.enroll_face(file_name=filename)\n",
    "        id = str(id)\n",
    "        self.sql_db.insert(id,name,address,city,state,zip,filename)\n",
    "        print('[+] Data Inserted ')\n",
    "        return id\n",
    "\n",
    "    def reterive(self,filename):\n",
    "        data_json = {}\n",
    "        try:\n",
    "            percentage,matches=self.face_db.reterive_face(file_name=filename)\n",
    "            for i in range(5):\n",
    "                data_json[i]={}\n",
    "                percnt = percentage[0][i]\n",
    "                id = matches[0][i]\n",
    "                data = self.sql_db.get_data(id=id)\n",
    "                data_json[i]['name']=data[1]\n",
    "                data_json[i]['address']=data[2]\n",
    "                data_json[i]['city']=data[3]\n",
    "                data_json[i]['state']=data[4]\n",
    "                data_json[i]['zip']=data[5]\n",
    "                data_json[i]['filename']=data[6]\n",
    "                data_json[i]['percentage']=percnt\n",
    "            data_json['status']=True\n",
    "        except Exception as e:\n",
    "            data_json['status']=False\n",
    "            data_json['error']= str(e)\n",
    "        \n",
    "    # print(data)\n"
   ]
  },
  {
   "cell_type": "code",
   "execution_count": 3,
   "metadata": {},
   "outputs": [
    {
     "name": "stdout",
     "output_type": "stream",
     "text": [
      "[+] test1 Database Connected\n",
      "[+] DB Schema Created\n",
      "[+] Everything loaded\n"
     ]
    }
   ],
   "source": [
    "db_ = DBInterace('test1')"
   ]
  },
  {
   "cell_type": "code",
   "execution_count": 4,
   "metadata": {},
   "outputs": [
    {
     "name": "stderr",
     "output_type": "stream",
     "text": [
      "2023-04-16 04:51:49.446230: I tensorflow/compiler/xla/stream_executor/cuda/cuda_gpu_executor.cc:996] successful NUMA node read from SysFS had negative value (-1), but there must be at least one NUMA node, so returning NUMA node zero. See more at https://github.com/torvalds/linux/blob/v6.0/Documentation/ABI/testing/sysfs-bus-pci#L344-L355\n",
      "2023-04-16 04:51:49.591158: W tensorflow/core/common_runtime/gpu/gpu_device.cc:1956] Cannot dlopen some GPU libraries. Please make sure the missing libraries mentioned above are installed properly if you would like to use GPU. Follow the guide at https://www.tensorflow.org/install/gpu for how to download and setup the required libraries for your platform.\n",
      "Skipping registering GPU devices...\n"
     ]
    },
    {
     "name": "stdout",
     "output_type": "stream",
     "text": [
      "[+] Data inserted \n",
      "[+] Data Inserted \n"
     ]
    }
   ],
   "source": [
    "a=db_.enroll(name='Ali Abbas',address='Talagang',city='Talagang',state='Punjab',zip='48100',filename='faces/ali.jpg')"
   ]
  },
  {
   "cell_type": "code",
   "execution_count": 7,
   "metadata": {},
   "outputs": [
    {
     "ename": "IntegrityError",
     "evalue": "UNIQUE constraint failed: COMPANY.ID",
     "output_type": "error",
     "traceback": [
      "\u001b[0;31m---------------------------------------------------------------------------\u001b[0m",
      "\u001b[0;31mIntegrityError\u001b[0m                            Traceback (most recent call last)",
      "Cell \u001b[0;32mIn[7], line 1\u001b[0m\n\u001b[0;32m----> 1\u001b[0m db_\u001b[39m.\u001b[39;49menroll(name\u001b[39m=\u001b[39;49m\u001b[39m'\u001b[39;49m\u001b[39mSaad\u001b[39;49m\u001b[39m'\u001b[39;49m,address\u001b[39m=\u001b[39;49m\u001b[39m'\u001b[39;49m\u001b[39mMianwali\u001b[39;49m\u001b[39m'\u001b[39;49m,city\u001b[39m=\u001b[39;49m\u001b[39m'\u001b[39;49m\u001b[39mMianwali\u001b[39;49m\u001b[39m'\u001b[39;49m,state\u001b[39m=\u001b[39;49m\u001b[39m'\u001b[39;49m\u001b[39mPunjab\u001b[39;49m\u001b[39m'\u001b[39;49m,\u001b[39mzip\u001b[39;49m\u001b[39m=\u001b[39;49m\u001b[39m'\u001b[39;49m\u001b[39m48100\u001b[39;49m\u001b[39m'\u001b[39;49m,filename\u001b[39m=\u001b[39;49m\u001b[39m'\u001b[39;49m\u001b[39mfaces/saad.jpg\u001b[39;49m\u001b[39m'\u001b[39;49m)\n",
      "Cell \u001b[0;32mIn[2], line 13\u001b[0m, in \u001b[0;36mDBInterace.enroll\u001b[0;34m(self, name, address, city, state, zip, filename)\u001b[0m\n\u001b[1;32m     11\u001b[0m \u001b[39mid\u001b[39m \u001b[39m=\u001b[39m \u001b[39mself\u001b[39m\u001b[39m.\u001b[39mface_db\u001b[39m.\u001b[39menroll_face(file_name\u001b[39m=\u001b[39mfilename)\n\u001b[1;32m     12\u001b[0m \u001b[39mid\u001b[39m \u001b[39m=\u001b[39m \u001b[39mstr\u001b[39m(\u001b[39mid\u001b[39m)\n\u001b[0;32m---> 13\u001b[0m \u001b[39mself\u001b[39;49m\u001b[39m.\u001b[39;49msql_db\u001b[39m.\u001b[39;49minsert(\u001b[39mid\u001b[39;49m,name,address,city,state,\u001b[39mzip\u001b[39;49m,filename)\n\u001b[1;32m     14\u001b[0m \u001b[39mprint\u001b[39m(\u001b[39m'\u001b[39m\u001b[39m[+] Data Inserted \u001b[39m\u001b[39m'\u001b[39m)\n\u001b[1;32m     15\u001b[0m \u001b[39mreturn\u001b[39;00m \u001b[39mid\u001b[39m\n",
      "File \u001b[0;32m~/Desktop/waspak_co/face_verification/sql_db_interface.py:41\u001b[0m, in \u001b[0;36mSQLDBInterface.insert\u001b[0;34m(self, id, name, address, city, state, zip, filename)\u001b[0m\n\u001b[1;32m     39\u001b[0m \u001b[39mself\u001b[39m\u001b[39m.\u001b[39mconnect()\n\u001b[1;32m     40\u001b[0m params \u001b[39m=\u001b[39m (\u001b[39mid\u001b[39m,name,address,city,state,\u001b[39mzip\u001b[39m,filename)\n\u001b[0;32m---> 41\u001b[0m \u001b[39mself\u001b[39;49m\u001b[39m.\u001b[39;49mconn\u001b[39m.\u001b[39;49mexecute(\u001b[39m\"\u001b[39;49m\u001b[39mINSERT INTO COMPANY VALUES (?,?,?,?,?,?,?)\u001b[39;49m\u001b[39m\"\u001b[39;49m,params)\n\u001b[1;32m     42\u001b[0m \u001b[39mself\u001b[39m\u001b[39m.\u001b[39mconn\u001b[39m.\u001b[39mcommit()\n\u001b[1;32m     43\u001b[0m \u001b[39mprint\u001b[39m(\u001b[39m'\u001b[39m\u001b[39m[+] Data inserted \u001b[39m\u001b[39m'\u001b[39m)\n",
      "\u001b[0;31mIntegrityError\u001b[0m: UNIQUE constraint failed: COMPANY.ID"
     ]
    }
   ],
   "source": [
    "db_.enroll(name='Saad',address='Mianwali',city='Mianwali',state='Punjab',zip='48100',filename='faces/saad.jpg')"
   ]
  },
  {
   "cell_type": "code",
   "execution_count": 8,
   "metadata": {},
   "outputs": [
    {
     "name": "stdout",
     "output_type": "stream",
     "text": [
      "[+] Data inserted \n",
      "[+] Data Inserted \n"
     ]
    },
    {
     "data": {
      "text/plain": [
       "'3'"
      ]
     },
     "execution_count": 8,
     "metadata": {},
     "output_type": "execute_result"
    }
   ],
   "source": [
    "db_.enroll(name='anwaar',address='TG',city='TG',state='Punjab',zip='48100',filename='faces/anwaa.jpg')"
   ]
  },
  {
   "cell_type": "code",
   "execution_count": 9,
   "metadata": {},
   "outputs": [
    {
     "name": "stdout",
     "output_type": "stream",
     "text": [
      "[+] Data inserted \n",
      "[+] Data Inserted \n",
      "[+] Data inserted \n",
      "[+] Data Inserted \n",
      "[+] Data inserted \n",
      "[+] Data Inserted \n"
     ]
    },
    {
     "data": {
      "text/plain": [
       "'6'"
      ]
     },
     "execution_count": 9,
     "metadata": {},
     "output_type": "execute_result"
    }
   ],
   "source": [
    "db_.enroll(name='kumail',address='TG',city='TG',state='Punjab',zip='48100',filename='faces/kumail.jpg')\n",
    "db_.enroll(name='farooq',address='TG',city='TG',state='Punjab',zip='48100',filename='faces/farooq.jpg')\n",
    "db_.enroll(name='nazar',address='TG',city='TG',state='Punjab',zip='48100',filename='faces/nazar.jpg')"
   ]
  },
  {
   "cell_type": "code",
   "execution_count": 10,
   "metadata": {},
   "outputs": [],
   "source": [
    "percentage,matches=db_.face_db.reterive_face(file_name='ali_.jpg')"
   ]
  },
  {
   "cell_type": "code",
   "execution_count": 17,
   "metadata": {},
   "outputs": [
    {
     "name": "stdout",
     "output_type": "stream",
     "text": [
      " \n",
      " \n",
      " \n",
      " \n",
      " \n"
     ]
    }
   ],
   "source": [
    "data_json = {}\n",
    "for i in range(5):\n",
    "    data_json[i]={}\n",
    "    percnt = percentage[0][i]\n",
    "    id = matches[0][i]\n",
    "    data = db_.sql_db.get_data(id=id)\n",
    "    data_json[i]['name']=data[1]\n",
    "    data_json[i]['address']=data[2]\n",
    "    data_json[i]['city']=data[3]\n",
    "    data_json[i]['state']=data[4]\n",
    "    data_json[i]['zip']=data[5]\n",
    "    data_json[i]['filename']=data[6]\n",
    "    data_json[i]['percentage']=percnt\n",
    "    # print(data)"
   ]
  },
  {
   "cell_type": "code",
   "execution_count": 18,
   "metadata": {},
   "outputs": [
    {
     "data": {
      "text/plain": [
       "{0: {'name': 'Ali Abbas',\n",
       "  'address': 'Talagang',\n",
       "  'city': 'Talagang',\n",
       "  'state': 'Punjab',\n",
       "  'zip': '48100',\n",
       "  'filename': 'faces/ali.jpg',\n",
       "  'percentage': 0.53042924},\n",
       " 1: {'name': 'nazar',\n",
       "  'address': 'TG',\n",
       "  'city': 'TG',\n",
       "  'state': 'Punjab',\n",
       "  'zip': '48100',\n",
       "  'filename': 'faces/nazar.jpg',\n",
       "  'percentage': 0.12437768},\n",
       " 2: {'name': 'farooq',\n",
       "  'address': 'TG',\n",
       "  'city': 'TG',\n",
       "  'state': 'Punjab',\n",
       "  'zip': '48100',\n",
       "  'filename': 'faces/farooq.jpg',\n",
       "  'percentage': 0.117852345},\n",
       " 3: {'name': 'anwaar',\n",
       "  'address': 'TG',\n",
       "  'city': 'TG',\n",
       "  'state': 'Punjab',\n",
       "  'zip': '48100',\n",
       "  'filename': 'faces/anwaa.jpg',\n",
       "  'percentage': 0.11459625},\n",
       " 4: {'name': 'kumail',\n",
       "  'address': 'TG',\n",
       "  'city': 'TG',\n",
       "  'state': 'Punjab',\n",
       "  'zip': '48100',\n",
       "  'filename': 'faces/kumail.jpg',\n",
       "  'percentage': 0.11274448}}"
      ]
     },
     "execution_count": 18,
     "metadata": {},
     "output_type": "execute_result"
    }
   ],
   "source": [
    "data_json"
   ]
  },
  {
   "cell_type": "code",
   "execution_count": null,
   "metadata": {},
   "outputs": [],
   "source": []
  }
 ],
 "metadata": {
  "kernelspec": {
   "display_name": "tensorflow",
   "language": "python",
   "name": "python3"
  },
  "language_info": {
   "codemirror_mode": {
    "name": "ipython",
    "version": 3
   },
   "file_extension": ".py",
   "mimetype": "text/x-python",
   "name": "python",
   "nbconvert_exporter": "python",
   "pygments_lexer": "ipython3",
   "version": "3.10.8 (main, Nov  4 2022, 09:21:25) [GCC 12.2.0]"
  },
  "orig_nbformat": 4,
  "vscode": {
   "interpreter": {
    "hash": "8aeff77c140e19957c962e2312d620fe43811b6a9f1755dd59e0bd3bfc542cf0"
   }
  }
 },
 "nbformat": 4,
 "nbformat_minor": 2
}
