{
 "cells": [
  {
   "cell_type": "code",
   "execution_count": 38,
   "metadata": {},
   "outputs": [],
   "source": [
    "from deepface import DeepFace\n",
    "import numpy as np\n",
    "import os,glob\n",
    "import faiss\n",
    "from sql_db_interface import DBInterface\n",
    "\n",
    "class FaceDB(object):\n",
    "    def __init__(self,face_directory:str = '',db_name:str = '',k=3) -> None:\n",
    "        self.face_directory = face_directory\n",
    "        self.db_name = db_name\n",
    "        self.dimensions = 128 \n",
    "        self.metric = 'euclidean'\n",
    "        self.k_neib = k\n",
    "        self.get_file_names()\n",
    "        self.configure_things()\n",
    "\n",
    "        # self.database = DBInterface(db_name=db_name)\n",
    "\n",
    "        \n",
    "    def configure_things(self):\n",
    "        if self.metric == 'euclidean':\n",
    "            self.index = faiss.IndexFlatL2(self.dimensions)\n",
    "        elif self.metric == 'cosine':\n",
    "            self.index = faiss.IndexFlatIP(self.dimensions)\n",
    "        \n",
    "        if not os.path.isfile(self.db_name+'.index'):\n",
    "            faiss.write_index(self.index,self.db_name+'.index')\n",
    "            self.index = faiss.read_index(self.db_name+'.index')\n",
    "        else:\n",
    "            self.index = faiss.read_index(self.db_name+'.index')\n",
    "            \n",
    "\n",
    "    def vectorize_image(self,file_name):\n",
    "        target_representation = DeepFace.represent(img_path = file_name, model_name = \"Facenet\")[0][\"embedding\"]\n",
    "        target_representation = np.array(target_representation, dtype='f')\n",
    "        target_representation = np.expand_dims(target_representation, axis=0)\n",
    "        return target_representation\n",
    "    \n",
    "    def enroll_face(self,file_name):\n",
    "        target_representation = self.vectorize_image(file_name=file_name)\n",
    "        self.index.add(target_representation)\n",
    "        faiss.write_index(self.index,self.db_name+'.index')\n",
    "        return self.reterive_face(file_name=file_name)[1][0][0]\n",
    "\n",
    "\n",
    "    def reterive_face(self,file_name):\n",
    "        target_representation = self.vectorize_image(file_name=file_name)\n",
    "        distances, neighbors = self.index.search(target_representation, self.k_neib)\n",
    "        total_distances = (1/distances).sum()\n",
    "        distance_metrics = [(1/d)/total_distances for d in distances]\n",
    "        return distance_metrics,neighbors"
   ]
  },
  {
   "cell_type": "code",
   "execution_count": 39,
   "metadata": {},
   "outputs": [],
   "source": [
    "face_db = FaceDB(face_directory='face',db_name='v2',k=3)"
   ]
  },
  {
   "cell_type": "code",
   "execution_count": 40,
   "metadata": {},
   "outputs": [],
   "source": [
    "a=face_db.enroll_face('face/anwaa.jpg')"
   ]
  },
  {
   "cell_type": "code",
   "execution_count": 41,
   "metadata": {},
   "outputs": [
    {
     "data": {
      "text/plain": [
       "0"
      ]
     },
     "execution_count": 41,
     "metadata": {},
     "output_type": "execute_result"
    }
   ],
   "source": [
    "a"
   ]
  },
  {
   "cell_type": "code",
   "execution_count": 42,
   "metadata": {},
   "outputs": [],
   "source": [
    "b=face_db.enroll_face('face/ali.jpg')"
   ]
  },
  {
   "cell_type": "code",
   "execution_count": 43,
   "metadata": {},
   "outputs": [],
   "source": [
    "c=face_db.enroll_face('face/saad.jpg')"
   ]
  },
  {
   "cell_type": "code",
   "execution_count": 45,
   "metadata": {},
   "outputs": [
    {
     "data": {
      "text/plain": [
       "([array([0.7223692 , 0.15797861, 0.11965218], dtype=float32)],\n",
       " array([[2, 0, 1]]))"
      ]
     },
     "execution_count": 45,
     "metadata": {},
     "output_type": "execute_result"
    }
   ],
   "source": [
    "face_db.reterive_face('saad_.jpg')"
   ]
  },
  {
   "cell_type": "code",
   "execution_count": null,
   "metadata": {},
   "outputs": [],
   "source": []
  }
 ],
 "metadata": {
  "kernelspec": {
   "display_name": "tensorflow",
   "language": "python",
   "name": "python3"
  },
  "language_info": {
   "codemirror_mode": {
    "name": "ipython",
    "version": 3
   },
   "file_extension": ".py",
   "mimetype": "text/x-python",
   "name": "python",
   "nbconvert_exporter": "python",
   "pygments_lexer": "ipython3",
   "version": "3.10.8 (main, Nov  4 2022, 09:21:25) [GCC 12.2.0]"
  },
  "orig_nbformat": 4,
  "vscode": {
   "interpreter": {
    "hash": "8aeff77c140e19957c962e2312d620fe43811b6a9f1755dd59e0bd3bfc542cf0"
   }
  }
 },
 "nbformat": 4,
 "nbformat_minor": 2
}
