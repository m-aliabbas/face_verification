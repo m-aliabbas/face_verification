{
 "cells": [
  {
   "cell_type": "code",
   "execution_count": 1,
   "metadata": {},
   "outputs": [],
   "source": [
    "# import sqlite3\n",
    "# import os\n",
    "# class DBInterface(object):\n",
    "#     def __init__(self,db_name) -> None:\n",
    "#         self.db_name = db_name\n",
    "#         self.conn = None\n",
    "#         if not os.path.isfile(db_name+'.db'):\n",
    "#             self.connect()\n",
    "#             self.make_schema()\n",
    "#             self.disconnect()\n",
    "            \n",
    "#     def connect(self):\n",
    "#         try:\n",
    "#             self.conn = sqlite3.connect(self.db_name+'.db')\n",
    "#             print(f'[+] {self.db_name} Database Connected')\n",
    "#         except Exception as e:\n",
    "#             print(f'[-] Connection Error {e}')\n",
    "\n",
    "#     def make_schema(self):\n",
    "#         if self.conn:\n",
    "#             self.conn.execute('''CREATE TABLE COMPANY\n",
    "#             (ID INT PRIMARY KEY     NOT NULL,\n",
    "#             NAME           TEXT    NOT NULL,\n",
    "#             ADDRESS        TEXT    NOT NULL,\n",
    "#             CITY        TEXT ,\n",
    "#             STATE        TEXT ,\n",
    "#             ZIP          TEXT,\n",
    "#             FILENAME     TEXT    NOT NULL);''')\n",
    "#             print(f'[+] DB Schema Created')\n",
    "            \n",
    "\n",
    "#     def insert(self,id='',name='',address='',city='',\n",
    "#                state='',zip='',filename=''):\n",
    "#         self.connect()\n",
    "#         params = (id,name,address,city,state,zip,filename)\n",
    "#         self.conn.execute(\"INSERT INTO COMPANY VALUES (?,?,?,?,?,?,?)\",params)\n",
    "#         self.conn.commit()\n",
    "#         print('[+] Data inserted ')\n",
    "#         self.disconnect()\n",
    "\n",
    "#     def get_data(self,id):\n",
    "#         self.connect()\n",
    "#         self.rows = self.conn.execute(\"SELECT * FROM COMPANY\")\n",
    "#         for row in self.rows:\n",
    "#             ...\n",
    "#         self.disconnect()\n",
    "#         return row\n",
    "        \n",
    "#     def disconnect(self):\n",
    "#         self.conn.close()\n"
   ]
  },
  {
   "cell_type": "code",
   "execution_count": 2,
   "metadata": {},
   "outputs": [],
   "source": [
    "\n",
    "# db_i = DBInterface('test1')"
   ]
  },
  {
   "cell_type": "code",
   "execution_count": 101,
   "metadata": {},
   "outputs": [],
   "source": [
    "# db_i.insert(id=1,name='ali',address='tl',city='tg',state='pn',zip='48100',filename='ali_.jpg')"
   ]
  },
  {
   "cell_type": "code",
   "execution_count": 3,
   "metadata": {},
   "outputs": [],
   "source": [
    "# a=db_i.get_data(id=1)"
   ]
  },
  {
   "cell_type": "code",
   "execution_count": null,
   "metadata": {},
   "outputs": [],
   "source": []
  }
 ],
 "metadata": {
  "kernelspec": {
   "display_name": "tensorflow",
   "language": "python",
   "name": "python3"
  },
  "language_info": {
   "codemirror_mode": {
    "name": "ipython",
    "version": 3
   },
   "file_extension": ".py",
   "mimetype": "text/x-python",
   "name": "python",
   "nbconvert_exporter": "python",
   "pygments_lexer": "ipython3",
   "version": "3.10.8"
  },
  "orig_nbformat": 4,
  "vscode": {
   "interpreter": {
    "hash": "8aeff77c140e19957c962e2312d620fe43811b6a9f1755dd59e0bd3bfc542cf0"
   }
  }
 },
 "nbformat": 4,
 "nbformat_minor": 2
}
