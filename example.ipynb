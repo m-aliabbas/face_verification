{
 "cells": [
  {
   "cell_type": "code",
   "execution_count": 2,
   "metadata": {},
   "outputs": [
    {
     "name": "stderr",
     "output_type": "stream",
     "text": [
      "2023-04-16 05:15:09.129011: I tensorflow/core/platform/cpu_feature_guard.cc:182] This TensorFlow binary is optimized to use available CPU instructions in performance-critical operations.\n",
      "To enable the following instructions: AVX2 FMA, in other operations, rebuild TensorFlow with the appropriate compiler flags.\n",
      "2023-04-16 05:15:09.949523: W tensorflow/compiler/tf2tensorrt/utils/py_utils.cc:38] TF-TRT Warning: Could not find TensorRT\n"
     ]
    }
   ],
   "source": [
    "from db_interface import DBInterace"
   ]
  },
  {
   "cell_type": "code",
   "execution_count": 3,
   "metadata": {},
   "outputs": [
    {
     "name": "stdout",
     "output_type": "stream",
     "text": [
      "[+] Everything loaded\n"
     ]
    }
   ],
   "source": [
    "db_int = DBInterace(db_name='test2',k=3)"
   ]
  },
  {
   "cell_type": "code",
   "execution_count": 4,
   "metadata": {},
   "outputs": [
    {
     "name": "stderr",
     "output_type": "stream",
     "text": [
      "2023-04-16 05:11:21.457311: I tensorflow/compiler/xla/stream_executor/cuda/cuda_gpu_executor.cc:996] successful NUMA node read from SysFS had negative value (-1), but there must be at least one NUMA node, so returning NUMA node zero. See more at https://github.com/torvalds/linux/blob/v6.0/Documentation/ABI/testing/sysfs-bus-pci#L344-L355\n",
      "2023-04-16 05:11:21.517690: W tensorflow/core/common_runtime/gpu/gpu_device.cc:1956] Cannot dlopen some GPU libraries. Please make sure the missing libraries mentioned above are installed properly if you would like to use GPU. Follow the guide at https://www.tensorflow.org/install/gpu for how to download and setup the required libraries for your platform.\n",
      "Skipping registering GPU devices...\n"
     ]
    },
    {
     "name": "stdout",
     "output_type": "stream",
     "text": [
      "[+] Data inserted \n",
      "[+] Data Inserted \n"
     ]
    }
   ],
   "source": [
    "a=db_int.enroll(name='Ali Abbas',address='Talagang',city='Talagang',state='Punjab',zip='48100',filename='faces/ali.jpg')"
   ]
  },
  {
   "cell_type": "code",
   "execution_count": 5,
   "metadata": {},
   "outputs": [
    {
     "name": "stdout",
     "output_type": "stream",
     "text": [
      "[+] Data inserted \n",
      "[+] Data Inserted \n",
      "[+] Data inserted \n",
      "[+] Data Inserted \n",
      "[+] Data inserted \n",
      "[+] Data Inserted \n"
     ]
    },
    {
     "data": {
      "text/plain": [
       "'3'"
      ]
     },
     "execution_count": 5,
     "metadata": {},
     "output_type": "execute_result"
    }
   ],
   "source": [
    "db_int.enroll(name='Saad',address='Mianwali',city='Mianwali',state='Punjab',zip='48100',filename='faces/saad.jpg')\n",
    "db_int.enroll(name='kumail',address='TG',city='TG',state='Punjab',zip='48100',filename='faces/kumail.jpg')\n",
    "db_int.enroll(name='farooq',address='TG',city='TG',state='Punjab',zip='48100',filename='faces/farooq.jpg')\n"
   ]
  },
  {
   "cell_type": "code",
   "execution_count": 4,
   "metadata": {},
   "outputs": [
    {
     "name": "stderr",
     "output_type": "stream",
     "text": [
      "2023-04-16 05:15:16.798374: I tensorflow/compiler/xla/stream_executor/cuda/cuda_gpu_executor.cc:996] successful NUMA node read from SysFS had negative value (-1), but there must be at least one NUMA node, so returning NUMA node zero. See more at https://github.com/torvalds/linux/blob/v6.0/Documentation/ABI/testing/sysfs-bus-pci#L344-L355\n",
      "2023-04-16 05:15:16.834110: W tensorflow/core/common_runtime/gpu/gpu_device.cc:1956] Cannot dlopen some GPU libraries. Please make sure the missing libraries mentioned above are installed properly if you would like to use GPU. Follow the guide at https://www.tensorflow.org/install/gpu for how to download and setup the required libraries for your platform.\n",
      "Skipping registering GPU devices...\n"
     ]
    },
    {
     "name": "stdout",
     "output_type": "stream",
     "text": [
      " \n",
      " \n",
      " \n"
     ]
    }
   ],
   "source": [
    "a=db_int.reterive('saad_.jpg')"
   ]
  },
  {
   "cell_type": "code",
   "execution_count": 5,
   "metadata": {},
   "outputs": [
    {
     "data": {
      "text/plain": [
       "{0: {'name': 'Saad',\n",
       "  'address': 'Mianwali',\n",
       "  'city': 'Mianwali',\n",
       "  'state': 'Punjab',\n",
       "  'zip': '48100',\n",
       "  'filename': 'faces/saad.jpg',\n",
       "  'percentage': 0.7370843},\n",
       " 1: {'name': 'kumail',\n",
       "  'address': 'TG',\n",
       "  'city': 'TG',\n",
       "  'state': 'Punjab',\n",
       "  'zip': '48100',\n",
       "  'filename': 'faces/kumail.jpg',\n",
       "  'percentage': 0.14082618},\n",
       " 2: {'name': 'Ali Abbas',\n",
       "  'address': 'Talagang',\n",
       "  'city': 'Talagang',\n",
       "  'state': 'Punjab',\n",
       "  'zip': '48100',\n",
       "  'filename': 'faces/ali.jpg',\n",
       "  'percentage': 0.12208957},\n",
       " 'status': True}"
      ]
     },
     "execution_count": 5,
     "metadata": {},
     "output_type": "execute_result"
    }
   ],
   "source": [
    "a"
   ]
  },
  {
   "cell_type": "code",
   "execution_count": null,
   "metadata": {},
   "outputs": [],
   "source": []
  }
 ],
 "metadata": {
  "kernelspec": {
   "display_name": "tensorflow",
   "language": "python",
   "name": "python3"
  },
  "language_info": {
   "codemirror_mode": {
    "name": "ipython",
    "version": 3
   },
   "file_extension": ".py",
   "mimetype": "text/x-python",
   "name": "python",
   "nbconvert_exporter": "python",
   "pygments_lexer": "ipython3",
   "version": "3.10.8 (main, Nov  4 2022, 09:21:25) [GCC 12.2.0]"
  },
  "orig_nbformat": 4,
  "vscode": {
   "interpreter": {
    "hash": "8aeff77c140e19957c962e2312d620fe43811b6a9f1755dd59e0bd3bfc542cf0"
   }
  }
 },
 "nbformat": 4,
 "nbformat_minor": 2
}
